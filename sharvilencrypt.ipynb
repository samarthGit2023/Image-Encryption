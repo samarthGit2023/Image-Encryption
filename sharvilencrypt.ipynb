{
  "nbformat": 4,
  "nbformat_minor": 0,
  "metadata": {
    "colab": {
      "provenance": [],
      "name": "sharvilencrypt.ipynb",
      "authorship_tag": "ABX9TyN3BD6auNd7pldPF4mt/cL2",
      "include_colab_link": true
    },
    "kernelspec": {
      "name": "python3",
      "display_name": "Python 3"
    },
    "language_info": {
      "name": "python"
    }
  },
  "cells": [
    {
      "cell_type": "markdown",
      "metadata": {
        "id": "view-in-github",
        "colab_type": "text"
      },
      "source": [
        "<a href=\"https://colab.research.google.com/github/samarthGit2023/Image-Encryption/blob/main/sharvilencrypt.ipynb\" target=\"_parent\"><img src=\"https://colab.research.google.com/assets/colab-badge.svg\" alt=\"Open In Colab\"/></a>"
      ]
    },
    {
      "cell_type": "code",
      "execution_count": null,
      "metadata": {
        "colab": {
          "base_uri": "https://localhost:8080/"
        },
        "id": "CZA_OOIm8EFB",
        "outputId": "7b698b22-857e-4615-e072-c666091822c3"
      },
      "outputs": [
        {
          "output_type": "stream",
          "name": "stdout",
          "text": [
            "Looking in indexes: https://pypi.org/simple, https://us-python.pkg.dev/colab-wheels/public/simple/\n",
            "Collecting pycryptodome\n",
            "  Downloading pycryptodome-3.18.0-cp35-abi3-manylinux_2_17_x86_64.manylinux2014_x86_64.whl (2.1 MB)\n",
            "\u001b[2K     \u001b[90m━━━━━━━━━━━━━━━━━━━━━━━━━━━━━━━━━━━━━━━━\u001b[0m \u001b[32m2.1/2.1 MB\u001b[0m \u001b[31m25.1 MB/s\u001b[0m eta \u001b[36m0:00:00\u001b[0m\n",
            "\u001b[?25hInstalling collected packages: pycryptodome\n",
            "Successfully installed pycryptodome-3.18.0\n"
          ]
        }
      ],
      "source": [
        "!pip install pycryptodome\n"
      ]
    },
    {
      "cell_type": "code",
      "source": [
        "!pip install pycryptodome\n"
      ],
      "metadata": {
        "id": "0orwT5Di9rsJ",
        "colab": {
          "base_uri": "https://localhost:8080/"
        },
        "outputId": "b54cab03-178c-4797-bcec-964e5694f349"
      },
      "execution_count": 7,
      "outputs": [
        {
          "output_type": "stream",
          "name": "stdout",
          "text": [
            "Looking in indexes: https://pypi.org/simple, https://us-python.pkg.dev/colab-wheels/public/simple/\n",
            "Collecting pycryptodome\n",
            "  Downloading pycryptodome-3.18.0-cp35-abi3-manylinux_2_17_x86_64.manylinux2014_x86_64.whl (2.1 MB)\n",
            "\u001b[2K     \u001b[90m━━━━━━━━━━━━━━━━━━━━━━━━━━━━━━━━━━━━━━━━\u001b[0m \u001b[32m2.1/2.1 MB\u001b[0m \u001b[31m30.7 MB/s\u001b[0m eta \u001b[36m0:00:00\u001b[0m\n",
            "\u001b[?25hInstalling collected packages: pycryptodome\n",
            "Successfully installed pycryptodome-3.18.0\n"
          ]
        }
      ]
    },
    {
      "cell_type": "markdown",
      "source": [
        "Here we use it without any rot 13 so the image would be mostly of similar color rathet than much variable"
      ],
      "metadata": {
        "id": "-0pzQZYofKaY"
      }
    },
    {
      "cell_type": "code",
      "source": [
        "from PIL import Image\n",
        "import numpy as np\n",
        "\n",
        "# Open the image file\n",
        "image_path = \"Cat03.jpg\"  # Replace with the actual path to your image\n",
        "image = Image.open(image_path)\n",
        "\n",
        "# Convert the image to grayscale\n",
        "image_gray = image.convert(\"L\")\n",
        "\n",
        "# Split the grayscale image into individual bit planes\n",
        "bit_planes = []\n",
        "for bit in range(8):\n",
        "    bit_plane = np.array(image_gray) & (1 << bit)\n",
        "    bit_planes.append(bit_plane)\n",
        "\n",
        "# Define the substitution cipher mapping for each bit plane\n",
        "cipher_mapping = {\n",
        "    0: 255,\n",
        "    1: 200,\n",
        "    2: 150,\n",
        "    3: 100,\n",
        "    4: 50,\n",
        "    # Define additional mappings as needed for each bit plane\n",
        "}\n",
        "\n",
        "# Apply the substitution cipher to each bit plane\n",
        "ciphertext_planes = []\n",
        "for bit_plane in bit_planes:\n",
        "    get_mapping = np.vectorize(lambda x: cipher_mapping.get(x, 0))\n",
        "    ciphertext_plane = get_mapping(bit_plane)\n",
        "    ciphertext_planes.append(ciphertext_plane)\n",
        "\n",
        "# Combine the ciphertext bit planes\n",
        "ciphertext_image = sum(ciphertext_planes) % 256\n",
        "ciphertext_image = Image.fromarray(ciphertext_image.astype(np.uint8))\n",
        "\n",
        "# Define the false color mapping\n",
        "color_map = [\n",
        "    (0, 0, 0),           # Black\n",
        "    (255, 0, 0),         # Red\n",
        "    (0, 255, 0),         # Green\n",
        "    (0, 0, 255),         # Blue\n",
        "    (255, 255, 0),       # Yellow\n",
        "    (255, 0, 255),       # Magenta\n",
        "    (0, 255, 255),       # Cyan\n",
        "    (255, 255, 255),     # White\n",
        "]\n",
        "\n",
        "# Apply the false color mapping to the ciphertext image\n",
        "false_color_image = ciphertext_image.convert(\"P\", palette=Image.ADAPTIVE, colors=len(color_map))\n",
        "false_color_image.putpalette(sum(color_map, ()))\n",
        "\n",
        "# Save the false color image\n",
        "output_image_path = \"path_to_save_output_image.png\"  # Replace with the desired path and filename\n",
        "false_color_image.save(output_image_path)\n",
        "\n",
        "print(\"False color image saved successfully.\")\n"
      ],
      "metadata": {
        "colab": {
          "base_uri": "https://localhost:8080/"
        },
        "id": "3eB8qVgeaZwR",
        "outputId": "1adda2a6-2eb0-4477-fc1f-415253017f86"
      },
      "execution_count": 27,
      "outputs": [
        {
          "output_type": "stream",
          "name": "stdout",
          "text": [
            "False color image saved successfully.\n"
          ]
        }
      ]
    },
    {
      "cell_type": "markdown",
      "source": [
        "Here we implement rot 13 so as you can see there are much visible characteristics and there is a larger color variation in the output image"
      ],
      "metadata": {
        "id": "Ul1vcJh-fUv4"
      }
    },
    {
      "cell_type": "code",
      "source": [
        "from PIL import Image\n",
        "import numpy as np\n",
        "\n",
        "# Open the image file\n",
        "image_path = \"Cat03.jpg\"  # Replace with the actual path to your image\n",
        "image = Image.open(image_path)\n",
        "\n",
        "# Convert the image to grayscale\n",
        "image_gray = image.convert(\"L\")\n",
        "\n",
        "# Split the grayscale image into individual bit planes\n",
        "bit_planes = []\n",
        "for bit in range(8):\n",
        "    bit_plane = np.array(image_gray) & (1 << bit)\n",
        "    bit_planes.append(bit_plane.astype(np.uint8))\n",
        "\n",
        "# Define the substitution cipher mapping using ROT13\n",
        "def rot13(c):\n",
        "    if 'a' <= c <= 'z':\n",
        "        return chr((ord(c) - ord('a') + 13) % 26 + ord('a'))\n",
        "    elif 'A' <= c <= 'Z':\n",
        "        return chr((ord(c) - ord('A') + 13) % 26 + ord('A'))\n",
        "    else:\n",
        "        return c\n",
        "\n",
        "# Apply the substitution cipher to each bit plane\n",
        "ciphertext_planes = []\n",
        "for bit_plane in bit_planes:\n",
        "    apply_rot13 = np.vectorize(rot13)\n",
        "    ciphertext_plane = apply_rot13(bit_plane.astype('U1'))\n",
        "    ciphertext_planes.append(ciphertext_plane.astype(np.uint8))\n",
        "\n",
        "# Combine the ciphertext bit planes\n",
        "ciphertext_image = np.zeros_like(bit_planes[0], dtype=np.uint8)\n",
        "for plane in ciphertext_planes:\n",
        "    ciphertext_image |= plane\n",
        "\n",
        "# Convert the ciphertext image back to grayscale\n",
        "ciphertext_gray = Image.fromarray(ciphertext_image)\n",
        "\n",
        "# Define the false color mapping\n",
        "color_map = [\n",
        "    (0, 0, 0),           # Black\n",
        "    (255, 0, 0),         # Red\n",
        "    (0, 255, 0),         # Green\n",
        "    (0, 0, 255),         # Blue\n",
        "    (255, 255, 0),       # Yellow\n",
        "    (255, 0, 255),       # Magenta\n",
        "    (0, 255, 255),       # Cyan\n",
        "    (255, 255, 255),     # White\n",
        "]\n",
        "\n",
        "# Apply the false color mapping to the ciphertext image\n",
        "false_color_image = ciphertext_gray.convert(\"P\", palette=Image.ADAPTIVE, colors=len(color_map))\n",
        "false_color_image.putpalette(sum(color_map, ()))\n",
        "\n",
        "# Save the false color image\n",
        "output_image_path = \"path_to_save_output_image.png\"  # Replace with the desired path and filename\n",
        "false_color_image.save(output_image_path)\n",
        "\n",
        "print(\"False color image saved successfully.\")\n"
      ],
      "metadata": {
        "colab": {
          "base_uri": "https://localhost:8080/"
        },
        "id": "YSF9T9Yncmwa",
        "outputId": "2bd1d602-c654-4e7d-ff75-649fc08a5079"
      },
      "execution_count": 26,
      "outputs": [
        {
          "output_type": "stream",
          "name": "stdout",
          "text": [
            "False color image saved successfully.\n"
          ]
        }
      ]
    }
  ]
}